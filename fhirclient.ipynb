{
 "cells": [
  {
   "cell_type": "code",
   "execution_count": 1,
   "metadata": {},
   "outputs": [
    {
     "name": "stdout",
     "output_type": "stream",
     "text": [
      "Requirement already satisfied: fhir.resources in /opt/homebrew/Caskroom/miniconda/base/envs/jupyterexample/lib/python3.12/site-packages (8.0.0)\n",
      "Requirement already satisfied: fhir-core>=1.0.0 in /opt/homebrew/Caskroom/miniconda/base/envs/jupyterexample/lib/python3.12/site-packages (from fhir.resources) (1.0.0)\n",
      "Requirement already satisfied: pydantic<3.0,>=2.7.4 in /opt/homebrew/Caskroom/miniconda/base/envs/jupyterexample/lib/python3.12/site-packages (from fhir-core>=1.0.0->fhir.resources) (2.10.6)\n",
      "Requirement already satisfied: annotated-types>=0.6.0 in /opt/homebrew/Caskroom/miniconda/base/envs/jupyterexample/lib/python3.12/site-packages (from pydantic<3.0,>=2.7.4->fhir-core>=1.0.0->fhir.resources) (0.7.0)\n",
      "Requirement already satisfied: pydantic-core==2.27.2 in /opt/homebrew/Caskroom/miniconda/base/envs/jupyterexample/lib/python3.12/site-packages (from pydantic<3.0,>=2.7.4->fhir-core>=1.0.0->fhir.resources) (2.27.2)\n",
      "Requirement already satisfied: typing-extensions>=4.12.2 in /opt/homebrew/Caskroom/miniconda/base/envs/jupyterexample/lib/python3.12/site-packages (from pydantic<3.0,>=2.7.4->fhir-core>=1.0.0->fhir.resources) (4.12.2)\n"
     ]
    }
   ],
   "source": [
    "!pip install fhir.resources"
   ]
  },
  {
   "cell_type": "code",
   "execution_count": 2,
   "metadata": {},
   "outputs": [],
   "source": [
    "from fhir.resources.patient import Patient\n",
    "import json"
   ]
  },
  {
   "cell_type": "code",
   "execution_count": 3,
   "metadata": {},
   "outputs": [],
   "source": [
    "# Example FHIR JSON payload (this could come from an API or file)\n",
    "fhir_json_payload = '''{\n",
    "    \"resourceType\": \"Patient\",\n",
    "    \"id\": \"example\",\n",
    "    \"name\": [\n",
    "        {\n",
    "            \"use\": \"official\",\n",
    "            \"family\": \"Doe\",\n",
    "            \"given\": [\"John\"]\n",
    "        }\n",
    "    ],\n",
    "    \"gender\": \"male\",\n",
    "    \"birthDate\": \"1974-12-25\"\n",
    "}'''"
   ]
  },
  {
   "cell_type": "code",
   "execution_count": 4,
   "metadata": {},
   "outputs": [],
   "source": [
    "# Convert JSON string into a Python dictionary\n",
    "fhir_data = json.loads(fhir_json_payload)"
   ]
  },
  {
   "cell_type": "code",
   "execution_count": 6,
   "metadata": {},
   "outputs": [],
   "source": [
    "# Create a Patient object from the FHIR JSON payload\n",
    "patient = Patient(**fhir_data)"
   ]
  },
  {
   "cell_type": "code",
   "execution_count": 7,
   "metadata": {},
   "outputs": [
    {
     "name": "stdout",
     "output_type": "stream",
     "text": [
      "example\n",
      "[HumanName(fhir_comments=None, extension=None, id=None, family='Doe', family__ext=None, given=['John'], given__ext=None, period=None, prefix=None, prefix__ext=None, suffix=None, suffix__ext=None, text=None, text__ext=None, use='official', use__ext=None)]\n"
     ]
    }
   ],
   "source": [
    "# You can now interact with the Patient class in Python\n",
    "print(patient.id) \n",
    "print(patient.name) "
   ]
  },
  {
   "cell_type": "code",
   "execution_count": null,
   "metadata": {},
   "outputs": [],
   "source": []
  }
 ],
 "metadata": {
  "kernelspec": {
   "display_name": "jupyterexample",
   "language": "python",
   "name": "python3"
  },
  "language_info": {
   "codemirror_mode": {
    "name": "ipython",
    "version": 3
   },
   "file_extension": ".py",
   "mimetype": "text/x-python",
   "name": "python",
   "nbconvert_exporter": "python",
   "pygments_lexer": "ipython3",
   "version": "3.12.6"
  }
 },
 "nbformat": 4,
 "nbformat_minor": 2
}
